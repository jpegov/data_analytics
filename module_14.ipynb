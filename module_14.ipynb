{
 "cells": [
  {
   "cell_type": "code",
   "execution_count": 30,
   "id": "2d33375c",
   "metadata": {},
   "outputs": [],
   "source": [
    "import statsmodels.api as sm\n",
    "import statsmodels.formula.api as smf\n",
    "import numpy as np\n",
    "import pandas"
   ]
  },
  {
   "cell_type": "code",
   "execution_count": 35,
   "id": "c81f6cb6",
   "metadata": {},
   "outputs": [],
   "source": [
    "affairs = sm.datasets.fair.load_pandas().data\n"
   ]
  },
  {
   "cell_type": "code",
   "execution_count": 36,
   "id": "505ae389",
   "metadata": {},
   "outputs": [
    {
     "data": {
      "text/html": [
       "<div>\n",
       "<style scoped>\n",
       "    .dataframe tbody tr th:only-of-type {\n",
       "        vertical-align: middle;\n",
       "    }\n",
       "\n",
       "    .dataframe tbody tr th {\n",
       "        vertical-align: top;\n",
       "    }\n",
       "\n",
       "    .dataframe thead th {\n",
       "        text-align: right;\n",
       "    }\n",
       "</style>\n",
       "<table border=\"1\" class=\"dataframe\">\n",
       "  <thead>\n",
       "    <tr style=\"text-align: right;\">\n",
       "      <th></th>\n",
       "      <th>rate_marriage</th>\n",
       "      <th>age</th>\n",
       "      <th>yrs_married</th>\n",
       "      <th>children</th>\n",
       "      <th>religious</th>\n",
       "      <th>educ</th>\n",
       "      <th>occupation</th>\n",
       "      <th>occupation_husb</th>\n",
       "      <th>affairs</th>\n",
       "    </tr>\n",
       "  </thead>\n",
       "  <tbody>\n",
       "    <tr>\n",
       "      <th>0</th>\n",
       "      <td>3.0</td>\n",
       "      <td>32.0</td>\n",
       "      <td>9.0</td>\n",
       "      <td>3.0</td>\n",
       "      <td>3.0</td>\n",
       "      <td>17.0</td>\n",
       "      <td>2.0</td>\n",
       "      <td>5.0</td>\n",
       "      <td>0.111111</td>\n",
       "    </tr>\n",
       "    <tr>\n",
       "      <th>1</th>\n",
       "      <td>3.0</td>\n",
       "      <td>27.0</td>\n",
       "      <td>13.0</td>\n",
       "      <td>3.0</td>\n",
       "      <td>1.0</td>\n",
       "      <td>14.0</td>\n",
       "      <td>3.0</td>\n",
       "      <td>4.0</td>\n",
       "      <td>3.230769</td>\n",
       "    </tr>\n",
       "    <tr>\n",
       "      <th>2</th>\n",
       "      <td>4.0</td>\n",
       "      <td>22.0</td>\n",
       "      <td>2.5</td>\n",
       "      <td>0.0</td>\n",
       "      <td>1.0</td>\n",
       "      <td>16.0</td>\n",
       "      <td>3.0</td>\n",
       "      <td>5.0</td>\n",
       "      <td>1.400000</td>\n",
       "    </tr>\n",
       "    <tr>\n",
       "      <th>3</th>\n",
       "      <td>4.0</td>\n",
       "      <td>37.0</td>\n",
       "      <td>16.5</td>\n",
       "      <td>4.0</td>\n",
       "      <td>3.0</td>\n",
       "      <td>16.0</td>\n",
       "      <td>5.0</td>\n",
       "      <td>5.0</td>\n",
       "      <td>0.727273</td>\n",
       "    </tr>\n",
       "    <tr>\n",
       "      <th>4</th>\n",
       "      <td>5.0</td>\n",
       "      <td>27.0</td>\n",
       "      <td>9.0</td>\n",
       "      <td>1.0</td>\n",
       "      <td>1.0</td>\n",
       "      <td>14.0</td>\n",
       "      <td>3.0</td>\n",
       "      <td>4.0</td>\n",
       "      <td>4.666666</td>\n",
       "    </tr>\n",
       "  </tbody>\n",
       "</table>\n",
       "</div>"
      ],
      "text/plain": [
       "   rate_marriage   age  yrs_married  children  religious  educ  occupation  \\\n",
       "0            3.0  32.0          9.0       3.0        3.0  17.0         2.0   \n",
       "1            3.0  27.0         13.0       3.0        1.0  14.0         3.0   \n",
       "2            4.0  22.0          2.5       0.0        1.0  16.0         3.0   \n",
       "3            4.0  37.0         16.5       4.0        3.0  16.0         5.0   \n",
       "4            5.0  27.0          9.0       1.0        1.0  14.0         3.0   \n",
       "\n",
       "   occupation_husb   affairs  \n",
       "0              5.0  0.111111  \n",
       "1              4.0  3.230769  \n",
       "2              5.0  1.400000  \n",
       "3              5.0  0.727273  \n",
       "4              4.0  4.666666  "
      ]
     },
     "execution_count": 36,
     "metadata": {},
     "output_type": "execute_result"
    }
   ],
   "source": [
    "affairs.head()"
   ]
  },
  {
   "cell_type": "code",
   "execution_count": 38,
   "id": "db54f42a",
   "metadata": {},
   "outputs": [
    {
     "name": "stdout",
     "output_type": "stream",
     "text": [
      "<class 'pandas.core.frame.DataFrame'>\n",
      "RangeIndex: 6366 entries, 0 to 6365\n",
      "Data columns (total 9 columns):\n",
      " #   Column           Non-Null Count  Dtype  \n",
      "---  ------           --------------  -----  \n",
      " 0   rate_marriage    6366 non-null   float64\n",
      " 1   age              6366 non-null   float64\n",
      " 2   yrs_married      6366 non-null   float64\n",
      " 3   children         6366 non-null   float64\n",
      " 4   religious        6366 non-null   float64\n",
      " 5   educ             6366 non-null   float64\n",
      " 6   occupation       6366 non-null   float64\n",
      " 7   occupation_husb  6366 non-null   float64\n",
      " 8   affairs          6366 non-null   float64\n",
      "dtypes: float64(9)\n",
      "memory usage: 447.7 KB\n"
     ]
    }
   ],
   "source": [
    "affairs.info()"
   ]
  },
  {
   "cell_type": "code",
   "execution_count": 41,
   "id": "c6e3ff87",
   "metadata": {},
   "outputs": [],
   "source": [
    "res1 = smf.ols(formula='yrs_married ~ C(religious)', data= affairs).fit()"
   ]
  },
  {
   "cell_type": "code",
   "execution_count": 42,
   "id": "bf1b23f3",
   "metadata": {},
   "outputs": [
    {
     "name": "stdout",
     "output_type": "stream",
     "text": [
      "                            OLS Regression Results                            \n",
      "==============================================================================\n",
      "Dep. Variable:            yrs_married   R-squared:                       0.018\n",
      "Model:                            OLS   Adj. R-squared:                  0.018\n",
      "Method:                 Least Squares   F-statistic:                     39.44\n",
      "Date:                Fri, 18 Apr 2025   Prob (F-statistic):           3.02e-25\n",
      "Time:                        16:37:11   Log-Likelihood:                -21611.\n",
      "No. Observations:                6366   AIC:                         4.323e+04\n",
      "Df Residuals:                    6362   BIC:                         4.326e+04\n",
      "Df Model:                           3                                         \n",
      "Covariance Type:            nonrobust                                         \n",
      "=======================================================================================\n",
      "                          coef    std err          t      P>|t|      [0.025      0.975]\n",
      "---------------------------------------------------------------------------------------\n",
      "Intercept               7.4398      0.226     32.948      0.000       6.997       7.882\n",
      "C(religious)[T.2.0]     1.2109      0.272      4.453      0.000       0.678       1.744\n",
      "C(religious)[T.3.0]     1.9967      0.269      7.416      0.000       1.469       2.524\n",
      "C(religious)[T.4.0]     3.6761      0.361     10.182      0.000       2.968       4.384\n",
      "==============================================================================\n",
      "Omnibus:                      868.712   Durbin-Watson:                   1.893\n",
      "Prob(Omnibus):                  0.000   Jarque-Bera (JB):              670.655\n",
      "Skew:                           0.699   Prob(JB):                    2.34e-146\n",
      "Kurtosis:                       2.241   Cond. No.                         6.17\n",
      "==============================================================================\n",
      "\n",
      "Notes:\n",
      "[1] Standard Errors assume that the covariance matrix of the errors is correctly specified.\n"
     ]
    }
   ],
   "source": [
    "print(res1.summary())"
   ]
  },
  {
   "cell_type": "code",
   "execution_count": 43,
   "id": "12762c33",
   "metadata": {},
   "outputs": [],
   "source": [
    "res2 = smf.ols(formula='yrs_married ~ affairs * age', data=affairs).fit()"
   ]
  },
  {
   "cell_type": "code",
   "execution_count": 44,
   "id": "0c81bcad",
   "metadata": {},
   "outputs": [
    {
     "name": "stdout",
     "output_type": "stream",
     "text": [
      "                            OLS Regression Results                            \n",
      "==============================================================================\n",
      "Dep. Variable:            yrs_married   R-squared:                       0.800\n",
      "Model:                            OLS   Adj. R-squared:                  0.800\n",
      "Method:                 Least Squares   F-statistic:                     8470.\n",
      "Date:                Fri, 18 Apr 2025   Prob (F-statistic):               0.00\n",
      "Time:                        16:38:34   Log-Likelihood:                -16551.\n",
      "No. Observations:                6366   AIC:                         3.311e+04\n",
      "Df Residuals:                    6362   BIC:                         3.314e+04\n",
      "Df Model:                           3                                         \n",
      "Covariance Type:            nonrobust                                         \n",
      "===============================================================================\n",
      "                  coef    std err          t      P>|t|      [0.025      0.975]\n",
      "-------------------------------------------------------------------------------\n",
      "Intercept     -18.7553      0.187   -100.230      0.000     -19.122     -18.388\n",
      "affairs         0.3250      0.110      2.951      0.003       0.109       0.541\n",
      "age             0.9561      0.006    151.697      0.000       0.944       0.968\n",
      "affairs:age    -0.0142      0.004     -3.218      0.001      -0.023      -0.006\n",
      "==============================================================================\n",
      "Omnibus:                      432.722   Durbin-Watson:                   1.928\n",
      "Prob(Omnibus):                  0.000   Jarque-Bera (JB):              884.598\n",
      "Skew:                          -0.464   Prob(JB):                    8.17e-193\n",
      "Kurtosis:                       4.573   Cond. No.                         277.\n",
      "==============================================================================\n",
      "\n",
      "Notes:\n",
      "[1] Standard Errors assume that the covariance matrix of the errors is correctly specified.\n"
     ]
    }
   ],
   "source": [
    "print(res2.summary())"
   ]
  },
  {
   "cell_type": "code",
   "execution_count": 47,
   "id": "cb0e0e7b",
   "metadata": {},
   "outputs": [],
   "source": [
    "res3 = smf.ols(formula='yrs_married ~ np.exp(affairs)', data=affairs).fit()"
   ]
  },
  {
   "cell_type": "code",
   "execution_count": 48,
   "id": "a24f687b",
   "metadata": {},
   "outputs": [
    {
     "name": "stdout",
     "output_type": "stream",
     "text": [
      "                            OLS Regression Results                            \n",
      "==============================================================================\n",
      "Dep. Variable:            yrs_married   R-squared:                      -1.532\n",
      "Model:                            OLS   Adj. R-squared:                 -1.532\n",
      "Method:                 Least Squares   F-statistic:                       nan\n",
      "Date:                Fri, 18 Apr 2025   Prob (F-statistic):                nan\n",
      "Time:                        16:43:02   Log-Likelihood:                -24627.\n",
      "No. Observations:                6366   AIC:                         4.926e+04\n",
      "Df Residuals:                    6365   BIC:                         4.926e+04\n",
      "Df Model:                           0                                         \n",
      "Covariance Type:            nonrobust                                         \n",
      "===================================================================================\n",
      "                      coef    std err          t      P>|t|      [0.025      0.975]\n",
      "-----------------------------------------------------------------------------------\n",
      "Intercept        2.329e-50   1.08e-49      0.216      0.829   -1.88e-49    2.35e-49\n",
      "np.exp(affairs)  2.413e-25   1.12e-24      0.216      0.829   -1.95e-24    2.43e-24\n",
      "==============================================================================\n",
      "Omnibus:                      970.621   Durbin-Watson:                   0.754\n",
      "Prob(Omnibus):                  0.000   Jarque-Bera (JB):              724.682\n",
      "Skew:                           0.726   Prob(JB):                    4.34e-158\n",
      "Kurtosis:                       2.209   Cond. No.                     1.30e+23\n",
      "==============================================================================\n",
      "\n",
      "Notes:\n",
      "[1] Standard Errors assume that the covariance matrix of the errors is correctly specified.\n",
      "[2] The condition number is large, 1.3e+23. This might indicate that there are\n",
      "strong multicollinearity or other numerical problems.\n"
     ]
    }
   ],
   "source": [
    "print(res3.summary())"
   ]
  },
  {
   "cell_type": "code",
   "execution_count": 52,
   "id": "db476868",
   "metadata": {},
   "outputs": [],
   "source": [
    "res4 = res2 = smf.ols(formula='yrs_married ~ affairs + age', data=affairs).fit()"
   ]
  },
  {
   "cell_type": "code",
   "execution_count": 53,
   "id": "8f93079b",
   "metadata": {},
   "outputs": [
    {
     "name": "stdout",
     "output_type": "stream",
     "text": [
      "                            OLS Regression Results                            \n",
      "==============================================================================\n",
      "Dep. Variable:            yrs_married   R-squared:                       0.799\n",
      "Model:                            OLS   Adj. R-squared:                  0.799\n",
      "Method:                 Least Squares   F-statistic:                 1.268e+04\n",
      "Date:                Fri, 18 Apr 2025   Prob (F-statistic):               0.00\n",
      "Time:                        16:48:32   Log-Likelihood:                -16556.\n",
      "No. Observations:                6366   AIC:                         3.312e+04\n",
      "Df Residuals:                    6363   BIC:                         3.314e+04\n",
      "Df Model:                           2                                         \n",
      "Covariance Type:            nonrobust                                         \n",
      "==============================================================================\n",
      "                 coef    std err          t      P>|t|      [0.025      0.975]\n",
      "------------------------------------------------------------------------------\n",
      "Intercept    -18.5967      0.181   -102.945      0.000     -18.951     -18.243\n",
      "affairs       -0.0243      0.019     -1.306      0.192      -0.061       0.012\n",
      "age            0.9498      0.006    158.488      0.000       0.938       0.962\n",
      "==============================================================================\n",
      "Omnibus:                      440.639   Durbin-Watson:                   1.933\n",
      "Prob(Omnibus):                  0.000   Jarque-Bera (JB):              898.988\n",
      "Skew:                          -0.472   Prob(JB):                    6.13e-196\n",
      "Kurtosis:                       4.581   Cond. No.                         132.\n",
      "==============================================================================\n",
      "\n",
      "Notes:\n",
      "[1] Standard Errors assume that the covariance matrix of the errors is correctly specified.\n"
     ]
    }
   ],
   "source": [
    "print(res4.summary())"
   ]
  },
  {
   "cell_type": "code",
   "execution_count": 55,
   "id": "8ebb334f",
   "metadata": {},
   "outputs": [
    {
     "data": {
      "image/png": "[encoded data removed]",
      "text/plain": [
       "<Figure size 640x480 with 1 Axes>"
      ]
     },
     "metadata": {},
     "output_type": "display_data"
    }
   ],
   "source": [
    "fig = sm.graphics.plot_fit(res4, \"age\")\n",
    "fig.tight_layout(pad=1.0)"
   ]
  },
  {
   "cell_type": "code",
   "execution_count": null,
   "id": "31eaa76c",
   "metadata": {},
   "outputs": [],
   "source": []
  }
 ],
 "metadata": {
  "kernelspec": {
   "display_name": "Python 3 (ipykernel)",
   "language": "python",
   "name": "python3"
  },
  "language_info": {
   "codemirror_mode": {
    "name": "ipython",
    "version": 3
   },
   "file_extension": ".py",
   "mimetype": "text/x-python",
   "name": "python",
   "nbconvert_exporter": "python",
   "pygments_lexer": "ipython3",
   "version": "3.11.5"
  }
 },
 "nbformat": 4,
 "nbformat_minor": 5
}
