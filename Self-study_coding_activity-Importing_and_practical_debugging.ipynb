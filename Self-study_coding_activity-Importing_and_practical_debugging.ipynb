{
 "cells": [
  {
   "cell_type": "markdown",
   "metadata": {
    "nbgrader": {
     "grade": false,
     "grade_id": "Introduction",
     "locked": true,
     "schema_version": 1,
     "solution": false
    }
   },
   "source": [
    "# Self-study activity: Importing and practical debugging\n",
    "---\n",
    "\n",
    "    \n",
    "## Overview\n",
    "\n",
    "In this activity, you will practise using the import tool and the multiple debugging techniques you have learned in this module.\n",
    "\n",
    "This activity is designed to build your familiarity and comfort coding in Python while also helping you review the key topics from each module. As you progress through the activity, the questions will get increasingly more complex. It is important that you adopt a programmer's mindset when completing this activity. Remember to run your code from each cell before submitting your activity, as doing so will give you a chance to fix any errors before submitting.\n",
    "\n",
    "\n",
    "### Learning outcomes addressed  \n",
    "\n",
    "- Utilise the import system and resolve common import errors.\n",
    "- Perform effective debugging.\n",
    "\n",
    "\n",
    " \n",
    "\n"
   ]
  },
  {
   "cell_type": "markdown",
   "metadata": {
    "nbgrader": {
     "grade": false,
     "grade_id": "Index",
     "locked": true,
     "schema_version": 1,
     "solution": false
    }
   },
   "source": [
    "\n",
    "\n",
    "## Index:\n",
    "\n",
    "- [Question 1](#Question-1)\n",
    "- [Question 2](#Question-2)\n",
    "- [Question 3](#Question-3)\n",
    "- [Question 4](#Question-4)\n",
    "- [Question 5](#Question-5)\n",
    "- [Question 6](#Question-6)\n",
    "- [Question 7](#Question-7)\n"
   ]
  },
  {
   "cell_type": "markdown",
   "metadata": {
    "nbgrader": {
     "grade": false,
     "grade_id": "Q1_Description",
     "locked": true,
     "schema_version": 1,
     "solution": false
    }
   },
   "source": [
    "[Back to top](#Index:) \n",
    "\n",
    "### Question 1\n",
    "\n",
    "Perform the following tasks:\n",
    "- Open the text file, and call it ‘myTestLibrary’. Put the file in your Jupyter notebook directory.\n",
    "- In the myTestLibrary file, write a function called ‘Calc’ that multiplies two numbers together and returns the result.\n",
    "- In the Answer cell below, import the library you have created, and then call the function in the library, passing it the numbers 7 and 9 as the parameters.\n",
    "- Assign the returned product to ans1a, and print out the answer.\n",
    "- Make sure you get 63 for the answer.\n",
    "- Try passing different numbers into the function and checking to see you get the expected answer.\n"
   ]
  },
  {
   "cell_type": "code",
   "execution_count": 5,
   "metadata": {
    "nbgrader": {
     "grade": false,
     "grade_id": "Lib_Ans",
     "locked": false,
     "schema_version": 1,
     "solution": true
    }
   },
   "outputs": [
    {
     "name": "stdout",
     "output_type": "stream",
     "text": [
      "63\n"
     ]
    }
   ],
   "source": [
    "### Answer Cell - put your code below\n",
    "import myTestLibrary\n",
    "ans1a = myTestLibrary.calc(7,9)\n",
    "print(ans1a)\n"
   ]
  },
  {
   "cell_type": "markdown",
   "metadata": {
    "nbgrader": {
     "grade": false,
     "grade_id": "Q2_Description",
     "locked": true,
     "schema_version": 1,
     "solution": false
    }
   },
   "source": [
    "[Back to top](#Index:) \n",
    "\n",
    "### Question 2\n",
    "\n",
    "Perform the following tasks:\n",
    "- Edit your myTestLibrary file so that the two numbers passed in are summed instead of multiplied.\n",
    "- In the Answer cell below, call the function from the library, and pass it the numbers 7 and 9.\n",
    "- Assign the returned value from the function to ans2a.\n",
    "- Print ans2a, and make sure the answer is 16.\n",
    "- Try passing different numbers into the function and checking to see you get the expected answer.\n",
    "\n"
   ]
  },
  {
   "cell_type": "code",
   "execution_count": 10,
   "metadata": {
    "nbgrader": {
     "grade": false,
     "grade_id": "Lib2_Ans",
     "locked": false,
     "schema_version": 1,
     "solution": true
    }
   },
   "outputs": [
    {
     "name": "stdout",
     "output_type": "stream",
     "text": [
      "The autoreload extension is already loaded. To reload it, use:\n",
      "  %reload_ext autoreload\n",
      "16\n"
     ]
    }
   ],
   "source": [
    "### Answer Cell - put your code below\n",
    "%load_ext autoreload\n",
    "%autoreload 2\n",
    "ans2a = myTestLibrary.calc(7,9)\n",
    "print(ans2a)\n",
    "\n"
   ]
  },
  {
   "cell_type": "markdown",
   "metadata": {
    "nbgrader": {
     "grade": false,
     "grade_id": "Q4_Description",
     "locked": true,
     "schema_version": 1,
     "solution": false
    }
   },
   "source": [
    "[Back to top](#Index:) \n",
    "\n",
    "### Question 3\n",
    "\n",
    "Perform the following tasks:\n",
    "- In the Error Code cell below, a FOR loop was created to print out the concatenation of a string and an integer value that will assign the answer to ans3a and print it out several times.\n",
    "- Run the cell below, and notice that you get an error print out that should look like this:\n",
    "<code>\n",
    "    ---------------------------------------------------------------------------\n",
    "    TypeError                                 Traceback (most recent call last)\n",
    "    <ipython-input-13-4a7e3a850366> in <module>\n",
    "          1 for i in range(3):\n",
    "    ----> 2    ans3a = 'a'+5\n",
    "\n",
    "    TypeError: can only concatenate str (not \"int\") to str\n",
    "</code>\n",
    "- Debug the error by looking at the error message.\n",
    "- Correct the error, and place your answer in the Answer cell so that the concatenation of the string and the integer character can be assigned to ans3a and printed out several times.\n",
    "- Your correct output should look like this:\n",
    "<code>\n",
    "    a5\n",
    "    a5\n",
    "    a5\n",
    "</code>"
   ]
  },
  {
   "cell_type": "code",
   "execution_count": 13,
   "metadata": {
    "nbgrader": {
     "grade": false,
     "grade_id": "err2_Desc",
     "locked": true,
     "schema_version": 1,
     "solution": false
    }
   },
   "outputs": [
    {
     "ename": "TypeError",
     "evalue": "can only concatenate str (not \"int\") to str",
     "output_type": "error",
     "traceback": [
      "\u001b[0;31m---------------------------------------------------------------------------\u001b[0m",
      "\u001b[0;31mTypeError\u001b[0m                                 Traceback (most recent call last)",
      "Cell \u001b[0;32mIn[13], line 4\u001b[0m\n\u001b[1;32m      1\u001b[0m \u001b[38;5;66;03m### Error Code Cell - run to see error\u001b[39;00m\n\u001b[1;32m      3\u001b[0m \u001b[38;5;28;01mfor\u001b[39;00m i \u001b[38;5;129;01min\u001b[39;00m \u001b[38;5;28mrange\u001b[39m(\u001b[38;5;241m3\u001b[39m):\n\u001b[0;32m----> 4\u001b[0m    ans3a \u001b[38;5;241m=\u001b[39m \u001b[38;5;124m'\u001b[39m\u001b[38;5;124ma\u001b[39m\u001b[38;5;124m'\u001b[39m\u001b[38;5;241m+\u001b[39m \u001b[38;5;241m5\u001b[39m\n\u001b[1;32m      5\u001b[0m    \u001b[38;5;28mprint\u001b[39m(ans3a)\n",
      "\u001b[0;31mTypeError\u001b[0m: can only concatenate str (not \"int\") to str"
     ]
    }
   ],
   "source": [
    "### Error Code Cell - run to see error\n",
    "\n",
    "for i in range(3):\n",
    "   ans3a = 'a'+ 5\n",
    "   print(ans3a)\n",
    "\n",
    "\n"
   ]
  },
  {
   "cell_type": "code",
   "execution_count": 12,
   "metadata": {
    "nbgrader": {
     "grade": false,
     "grade_id": "Err2_Ans",
     "locked": false,
     "schema_version": 1,
     "solution": true
    }
   },
   "outputs": [
    {
     "name": "stdout",
     "output_type": "stream",
     "text": [
      "a5\n",
      "a5\n",
      "a5\n"
     ]
    }
   ],
   "source": [
    "### Answer Cell -place your corrected code in this cell \n",
    "for i in range(3):\n",
    "   ans3a = 'a'+ str(5)\n",
    "   print(ans3a)\n"
   ]
  },
  {
   "cell_type": "markdown",
   "metadata": {
    "nbgrader": {
     "grade": false,
     "grade_id": "Q5_Description",
     "locked": true,
     "schema_version": 1,
     "solution": false
    }
   },
   "source": [
    "[Back to top](#Index:) \n",
    "\n",
    "### Question 4\n",
    "\n",
    "Perform the following tasks:\n",
    "- In the Error Code cell below, a FOR loop was created to iterate through a calculation several times.\n",
    "- The pdb debugger was used, and the pdb.set_trace() is set inside the loop.\n",
    "- Run the cell, and use the debugger to get to the point where the error occurs.\n",
    "- The error point should like this:\n",
    "<code>\n",
    "        ---------------------------------------------------------------------------\n",
    "\n",
    "\n",
    "    ZeroDivisionError: float division by zero\n",
    "    \n",
    "    \n",
    "    > <ipython-input-1-d31b2bb38149>(9)<module>()\n",
    "    -> ans5a = 64/(8 - (16/2))\n",
    "    (Pdb) p i, ans5a\n",
    "    (0, None)\n",
    "    (Pdb) c\n",
    "    ---------------------------------------------------------------------------\n",
    "    ZeroDivisionError                         Traceback (most recent call last)\n",
    "    <ipython-input-1-d31b2bb38149> in <module>()\n",
    "          7 for i in range(4):\n",
    "          8     pdb.set_trace()\n",
    "    ----> 9     ans5a = 64/(8 - (16/2))\n",
    "         10 \n",
    "         11 \n",
    "\n",
    "    ZeroDivisionError: float division by zero\n",
    "</code>\n",
    "\n",
    "- Look at the various lines in the debugger, and determine the error.\n",
    "- Correct the code so that you get an output of 16 for the ans4a. Place your corrected code in the Answer cell.\n"
   ]
  },
  {
   "cell_type": "code",
   "execution_count": 17,
   "metadata": {
    "nbgrader": {
     "grade": false,
     "grade_id": "Err5_Desc",
     "locked": true,
     "schema_version": 1,
     "solution": false
    }
   },
   "outputs": [
    {
     "name": "stdout",
     "output_type": "stream",
     "text": [
      "> \u001b[0;32m/var/folders/sm/grh6sszs7jqglb2lpkgw5yqr0000gn/T/ipykernel_59384/173760057.py\u001b[0m(7)\u001b[0;36m<module>\u001b[0;34m()\u001b[0m\n",
      "\u001b[0;32m      4 \u001b[0;31m\u001b[0;34m\u001b[0m\u001b[0m\n",
      "\u001b[0m\u001b[0;32m      5 \u001b[0;31m\u001b[0;32mfor\u001b[0m \u001b[0mi\u001b[0m \u001b[0;32min\u001b[0m \u001b[0mrange\u001b[0m\u001b[0;34m(\u001b[0m\u001b[0;36m4\u001b[0m\u001b[0;34m)\u001b[0m\u001b[0;34m:\u001b[0m\u001b[0;34m\u001b[0m\u001b[0;34m\u001b[0m\u001b[0m\n",
      "\u001b[0m\u001b[0;32m      6 \u001b[0;31m    \u001b[0mpdb\u001b[0m\u001b[0;34m.\u001b[0m\u001b[0mset_trace\u001b[0m\u001b[0;34m(\u001b[0m\u001b[0;34m)\u001b[0m\u001b[0;34m\u001b[0m\u001b[0;34m\u001b[0m\u001b[0m\n",
      "\u001b[0m\u001b[0;32m----> 7 \u001b[0;31m    \u001b[0mans4a\u001b[0m \u001b[0;34m=\u001b[0m \u001b[0;36m64\u001b[0m\u001b[0;34m/\u001b[0m\u001b[0;34m(\u001b[0m\u001b[0;36m8\u001b[0m \u001b[0;34m-\u001b[0m \u001b[0;34m(\u001b[0m\u001b[0;36m16\u001b[0m\u001b[0;34m/\u001b[0m\u001b[0;36m2\u001b[0m\u001b[0;34m)\u001b[0m\u001b[0;34m)\u001b[0m\u001b[0;34m\u001b[0m\u001b[0;34m\u001b[0m\u001b[0m\n",
      "\u001b[0m\u001b[0;32m      8 \u001b[0;31m\u001b[0;34m\u001b[0m\u001b[0m\n",
      "\u001b[0m\n",
      "ipdb> p i, ans4a\n",
      "*** NameError: name 'ans4a' is not defined\n",
      "ipdb> c\n"
     ]
    },
    {
     "ename": "ZeroDivisionError",
     "evalue": "float division by zero",
     "output_type": "error",
     "traceback": [
      "\u001b[0;31m---------------------------------------------------------------------------\u001b[0m",
      "\u001b[0;31mZeroDivisionError\u001b[0m                         Traceback (most recent call last)",
      "Cell \u001b[0;32mIn[17], line 7\u001b[0m\n\u001b[1;32m      5\u001b[0m \u001b[38;5;28;01mfor\u001b[39;00m i \u001b[38;5;129;01min\u001b[39;00m \u001b[38;5;28mrange\u001b[39m(\u001b[38;5;241m4\u001b[39m):\n\u001b[1;32m      6\u001b[0m     pdb\u001b[38;5;241m.\u001b[39mset_trace()\n\u001b[0;32m----> 7\u001b[0m     ans4a \u001b[38;5;241m=\u001b[39m \u001b[38;5;241m64\u001b[39m\u001b[38;5;241m/\u001b[39m(\u001b[38;5;241m8\u001b[39m \u001b[38;5;241m-\u001b[39m (\u001b[38;5;241m16\u001b[39m\u001b[38;5;241m/\u001b[39m\u001b[38;5;241m2\u001b[39m))\n",
      "\u001b[0;31mZeroDivisionError\u001b[0m: float division by zero"
     ]
    }
   ],
   "source": [
    "### Error Code Cell - run this cell to see error. Then uncomment out the trace line and run with the debugger.\n",
    "\n",
    "import pdb\n",
    "\n",
    "for i in range(4):\n",
    "    pdb.set_trace()\n",
    "    ans4a = 64/(8 - (16/2))\n",
    "\n"
   ]
  },
  {
   "cell_type": "code",
   "execution_count": 18,
   "metadata": {
    "nbgrader": {
     "grade": false,
     "grade_id": "Err5_Ans",
     "locked": false,
     "schema_version": 1,
     "solution": true
    }
   },
   "outputs": [
    {
     "name": "stdout",
     "output_type": "stream",
     "text": [
      "16.0\n",
      "16.0\n",
      "16.0\n",
      "16.0\n"
     ]
    }
   ],
   "source": [
    "### Answer Cell - place the corrected code here. Comment out the trace.\n",
    "\n",
    "import pdb\n",
    "\n",
    "for i in range(4):\n",
    "    #pdb.set_trace()\n",
    "    ans4a = 64/(8/2)\n",
    "    #print(ans4a)\n"
   ]
  },
  {
   "cell_type": "markdown",
   "metadata": {
    "nbgrader": {
     "grade": false,
     "grade_id": "Q6_Description",
     "locked": true,
     "schema_version": 1,
     "solution": false
    }
   },
   "source": [
    "[Back to top](#Index:) \n",
    "\n",
    "### Question 5\n",
    "\n",
    "Perform the following tasks:\n",
    "- In the Error Code cell below, a numerical list a = [1,2,3] is iterated through so that each element is printed out in turn.\n",
    "- Comment out the pdb.set_trace() code in the FOR loop, and run the code in the Error Code cell. Notice that for some reason the last element is not being printed. You decide to use the debugger.\n",
    "- To do so, you uncomment out the trace where shown. Using the debugger, step through the code to get the printout, which should look like this:\n",
    "<code>\n",
    "    1\n",
    "    2\n",
    "    \n",
    "    > <ipython-input-23-f6232cbed290>(12)<module>()->None\n",
    "    -> print(element)\n",
    "    (Pdb) p i, element, a[i]\n",
    "    (0, 1, 1)\n",
    "    (Pdb) c\n",
    "    1\n",
    "    > <ipython-input-23-f6232cbed290>(11)<module>()->None\n",
    "    -> pdb.set_trace()\n",
    "    (Pdb) p i, element, a[i]\n",
    "    (1, 2, 2)\n",
    "    (Pdb) n\n",
    "    > <ipython-input-23-f6232cbed290>(12)<module>()->None\n",
    "    -> print(element)\n",
    "    (Pdb) \n",
    "    2\n",
    "    > <ipython-input-23-f6232cbed290>(9)<module>()->None\n",
    "    -> for i in range(2):\n",
    "    (Pdb) \n",
    "    --Return--\n",
    "    > <ipython-input-23-f6232cbed290>(9)<module>()->None\n",
    "    -> for i in range(2):\n",
    "    (Pdb) p i, element, a[i]\n",
    "    (1, 2, 2)\n",
    "    (Pdb) n\n",
    "    > /usr/local/lib/python3.6/dist-packages/IPython/core/interactiveshell.py(2913)run_code()\n",
    "    -> sys.excepthook = old_excepthook\n",
    "    (Pdb) \n",
    "</code>    \n",
    "- Place the corrected code in the Answer cell to print out all the elements in the list, which should look like this:<code>\n",
    "    1\n",
    "    2\n",
    "    3\n",
    "</code> "
   ]
  },
  {
   "cell_type": "code",
   "execution_count": 21,
   "metadata": {
    "nbgrader": {
     "grade": false,
     "grade_id": "Err6_Desc",
     "locked": true,
     "schema_version": 1,
     "solution": false
    }
   },
   "outputs": [
    {
     "name": "stdout",
     "output_type": "stream",
     "text": [
      "> \u001b[0;32m/var/folders/sm/grh6sszs7jqglb2lpkgw5yqr0000gn/T/ipykernel_59384/3732466323.py\u001b[0m(11)\u001b[0;36m<module>\u001b[0;34m()\u001b[0m\n",
      "\u001b[0;32m      8 \u001b[0;31m\u001b[0;32mfor\u001b[0m \u001b[0mi\u001b[0m \u001b[0;32min\u001b[0m \u001b[0mrange\u001b[0m\u001b[0;34m(\u001b[0m\u001b[0;36m2\u001b[0m\u001b[0;34m)\u001b[0m\u001b[0;34m:\u001b[0m\u001b[0;34m\u001b[0m\u001b[0;34m\u001b[0m\u001b[0m\n",
      "\u001b[0m\u001b[0;32m      9 \u001b[0;31m    \u001b[0melement\u001b[0m \u001b[0;34m=\u001b[0m \u001b[0ma\u001b[0m\u001b[0;34m[\u001b[0m\u001b[0mi\u001b[0m\u001b[0;34m]\u001b[0m\u001b[0;34m\u001b[0m\u001b[0;34m\u001b[0m\u001b[0m\n",
      "\u001b[0m\u001b[0;32m     10 \u001b[0;31m    \u001b[0mpdb\u001b[0m\u001b[0;34m.\u001b[0m\u001b[0mset_trace\u001b[0m\u001b[0;34m(\u001b[0m\u001b[0;34m)\u001b[0m\u001b[0;34m\u001b[0m\u001b[0;34m\u001b[0m\u001b[0m\n",
      "\u001b[0m\u001b[0;32m---> 11 \u001b[0;31m    \u001b[0mprint\u001b[0m\u001b[0;34m(\u001b[0m\u001b[0melement\u001b[0m\u001b[0;34m)\u001b[0m\u001b[0;34m\u001b[0m\u001b[0;34m\u001b[0m\u001b[0m\n",
      "\u001b[0m\u001b[0;32m     12 \u001b[0;31m\u001b[0;34m\u001b[0m\u001b[0m\n",
      "\u001b[0m\n",
      "ipdb> p i, element, a[i]\n",
      "(0, 1, 1)\n",
      "ipdb> c\n",
      "1\n",
      "> \u001b[0;32m/var/folders/sm/grh6sszs7jqglb2lpkgw5yqr0000gn/T/ipykernel_59384/3732466323.py\u001b[0m(11)\u001b[0;36m<module>\u001b[0;34m()\u001b[0m\n",
      "\u001b[0;32m      8 \u001b[0;31m\u001b[0;32mfor\u001b[0m \u001b[0mi\u001b[0m \u001b[0;32min\u001b[0m \u001b[0mrange\u001b[0m\u001b[0;34m(\u001b[0m\u001b[0;36m2\u001b[0m\u001b[0;34m)\u001b[0m\u001b[0;34m:\u001b[0m\u001b[0;34m\u001b[0m\u001b[0;34m\u001b[0m\u001b[0m\n",
      "\u001b[0m\u001b[0;32m      9 \u001b[0;31m    \u001b[0melement\u001b[0m \u001b[0;34m=\u001b[0m \u001b[0ma\u001b[0m\u001b[0;34m[\u001b[0m\u001b[0mi\u001b[0m\u001b[0;34m]\u001b[0m\u001b[0;34m\u001b[0m\u001b[0;34m\u001b[0m\u001b[0m\n",
      "\u001b[0m\u001b[0;32m     10 \u001b[0;31m    \u001b[0mpdb\u001b[0m\u001b[0;34m.\u001b[0m\u001b[0mset_trace\u001b[0m\u001b[0;34m(\u001b[0m\u001b[0;34m)\u001b[0m\u001b[0;34m\u001b[0m\u001b[0;34m\u001b[0m\u001b[0m\n",
      "\u001b[0m\u001b[0;32m---> 11 \u001b[0;31m    \u001b[0mprint\u001b[0m\u001b[0;34m(\u001b[0m\u001b[0melement\u001b[0m\u001b[0;34m)\u001b[0m\u001b[0;34m\u001b[0m\u001b[0;34m\u001b[0m\u001b[0m\n",
      "\u001b[0m\u001b[0;32m     12 \u001b[0;31m\u001b[0;34m\u001b[0m\u001b[0m\n",
      "\u001b[0m\n",
      "ipdb> p i, element, a[i]\n",
      "(1, 2, 2)\n",
      "ipdb> n\n",
      "2\n",
      "> \u001b[0;32m/var/folders/sm/grh6sszs7jqglb2lpkgw5yqr0000gn/T/ipykernel_59384/3732466323.py\u001b[0m(8)\u001b[0;36m<module>\u001b[0;34m()\u001b[0m\n",
      "\u001b[0;32m      6 \u001b[0;31m\u001b[0melement\u001b[0m \u001b[0;34m=\u001b[0m \u001b[0;36m0\u001b[0m\u001b[0;34m\u001b[0m\u001b[0;34m\u001b[0m\u001b[0m\n",
      "\u001b[0m\u001b[0;32m      7 \u001b[0;31m\u001b[0;34m\u001b[0m\u001b[0m\n",
      "\u001b[0m\u001b[0;32m----> 8 \u001b[0;31m\u001b[0;32mfor\u001b[0m \u001b[0mi\u001b[0m \u001b[0;32min\u001b[0m \u001b[0mrange\u001b[0m\u001b[0;34m(\u001b[0m\u001b[0;36m2\u001b[0m\u001b[0;34m)\u001b[0m\u001b[0;34m:\u001b[0m\u001b[0;34m\u001b[0m\u001b[0;34m\u001b[0m\u001b[0m\n",
      "\u001b[0m\u001b[0;32m      9 \u001b[0;31m    \u001b[0melement\u001b[0m \u001b[0;34m=\u001b[0m \u001b[0ma\u001b[0m\u001b[0;34m[\u001b[0m\u001b[0mi\u001b[0m\u001b[0;34m]\u001b[0m\u001b[0;34m\u001b[0m\u001b[0;34m\u001b[0m\u001b[0m\n",
      "\u001b[0m\u001b[0;32m     10 \u001b[0;31m    \u001b[0mpdb\u001b[0m\u001b[0;34m.\u001b[0m\u001b[0mset_trace\u001b[0m\u001b[0;34m(\u001b[0m\u001b[0;34m)\u001b[0m\u001b[0;34m\u001b[0m\u001b[0;34m\u001b[0m\u001b[0m\n",
      "\u001b[0m\n",
      "ipdb> n\n",
      "--Return--\n",
      "None\n",
      "> \u001b[0;32m/var/folders/sm/grh6sszs7jqglb2lpkgw5yqr0000gn/T/ipykernel_59384/3732466323.py\u001b[0m(8)\u001b[0;36m<module>\u001b[0;34m()\u001b[0m\n",
      "\u001b[0;32m      6 \u001b[0;31m\u001b[0melement\u001b[0m \u001b[0;34m=\u001b[0m \u001b[0;36m0\u001b[0m\u001b[0;34m\u001b[0m\u001b[0;34m\u001b[0m\u001b[0m\n",
      "\u001b[0m\u001b[0;32m      7 \u001b[0;31m\u001b[0;34m\u001b[0m\u001b[0m\n",
      "\u001b[0m\u001b[0;32m----> 8 \u001b[0;31m\u001b[0;32mfor\u001b[0m \u001b[0mi\u001b[0m \u001b[0;32min\u001b[0m \u001b[0mrange\u001b[0m\u001b[0;34m(\u001b[0m\u001b[0;36m2\u001b[0m\u001b[0;34m)\u001b[0m\u001b[0;34m:\u001b[0m\u001b[0;34m\u001b[0m\u001b[0;34m\u001b[0m\u001b[0m\n",
      "\u001b[0m\u001b[0;32m      9 \u001b[0;31m    \u001b[0melement\u001b[0m \u001b[0;34m=\u001b[0m \u001b[0ma\u001b[0m\u001b[0;34m[\u001b[0m\u001b[0mi\u001b[0m\u001b[0;34m]\u001b[0m\u001b[0;34m\u001b[0m\u001b[0;34m\u001b[0m\u001b[0m\n",
      "\u001b[0m\u001b[0;32m     10 \u001b[0;31m    \u001b[0mpdb\u001b[0m\u001b[0;34m.\u001b[0m\u001b[0mset_trace\u001b[0m\u001b[0;34m(\u001b[0m\u001b[0;34m)\u001b[0m\u001b[0;34m\u001b[0m\u001b[0;34m\u001b[0m\u001b[0m\n",
      "\u001b[0m\n",
      "--KeyboardInterrupt--\n",
      "\n",
      "KeyboardInterrupt: Interrupted by user\n",
      "ipdb> q\n"
     ]
    }
   ],
   "source": [
    "### Error Code Cell - run the code with the trace commented out to see the error and then run again with the debugger\n",
    "\n",
    "import pdb\n",
    "\n",
    "a = [1,2,3]\n",
    "element = 0\n",
    "\n",
    "for i in range(2):\n",
    "    element = a[i]\n",
    "    pdb.set_trace()\n",
    "    print(element)\n",
    "    \n"
   ]
  },
  {
   "cell_type": "code",
   "execution_count": 24,
   "metadata": {
    "nbgrader": {
     "grade": false,
     "grade_id": "Err6_Ans",
     "locked": false,
     "schema_version": 1,
     "solution": true
    }
   },
   "outputs": [
    {
     "name": "stdout",
     "output_type": "stream",
     "text": [
      "1\n",
      "2\n",
      "3\n"
     ]
    }
   ],
   "source": [
    "### Answer Cell - place the corrected code here and run the code without the debugger\n",
    "a = [1,2,3]\n",
    "element = 0\n",
    "\n",
    "for i in range(3):\n",
    "    element = a[i]\n",
    "    #pdb.set_trace()\n",
    "    print(element)\n"
   ]
  },
  {
   "cell_type": "markdown",
   "metadata": {
    "nbgrader": {
     "grade": false,
     "grade_id": "Q7_Description",
     "locked": true,
     "schema_version": 1,
     "solution": false
    }
   },
   "source": [
    "###### [Back to top](#Index:) \n",
    "\n",
    "### Question 6\n",
    "\n",
    "Perform the following tasks:\n",
    "- In the Error Code cell below, a counter function is created that copies a passed list into another list and returns that list. It also sums each element in the list and returns that sum.\n",
    "- With the #pdb.set_trace() commented out, run the code, and notice the Type Error: output.\n",
    "- You decide to debug the code by setting a trace in the position shown in the Error Code cell below. Uncomment out the pdb.set_trace() line in the FOR loop. Then, run the code with the debugger, and step though the code.\n",
    "- If you step through the code, the degugger output should look like this:\n",
    "<code>\n",
    "    ---------------------------------------------------------------------------\n",
    "    TypeError                                 Traceback (most recent call last)\n",
    "    <ipython-input-5-4e802b5e392a> in <module>()\n",
    "         17 a=[0,2,4]\n",
    "         18 \n",
    "    ---> 19 ans1, ans2 = counter(a)\n",
    "         20 print(ans1, ans2)\n",
    "         21 \n",
    "\n",
    "\n",
    "    <ipython-input-5-4e802b5e392a> in counter(L)\n",
    "         11         summ = prev_element + element\n",
    "         12         prev_element = element\n",
    "    ---> 13         b.append[element]\n",
    "         14 \n",
    "         15     return b, summ\n",
    "\n",
    "    TypeError: 'builtin_function_or_method' object is not subscriptable\n",
    "    \n",
    "</code>\n",
    "<code>\n",
    "    > <ipython-input-6-fe86f7c9aeec>(11)counter()\n",
    "    -> summ = prev_element + element\n",
    "    (Pdb) n\n",
    "    > <ipython-input-6-fe86f7c9aeec>(12)counter()\n",
    "    -> prev_element = element\n",
    "    (Pdb) n\n",
    "    > <ipython-input-6-fe86f7c9aeec>(13)counter()\n",
    "    -> b.append[element]\n",
    "    (Pdb) p element, prev_element, summ\n",
    "    (0, 0, 0)\n",
    "    (Pdb) n\n",
    "    TypeError: 'builtin_function_or_method' object is not subscriptable\n",
    "    > <ipython-input-6-fe86f7c9aeec>(13)counter()\n",
    "    -> b.append[element]\n",
    "    (Pdb) n\n",
    "    --Return--\n",
    "    > <ipython-input-6-fe86f7c9aeec>(13)counter()->None\n",
    "    -> b.append[element]\n",
    "    (Pdb) n\n",
    "    TypeError: 'builtin_function_or_method' object is not subscriptable\n",
    "    > <ipython-input-6-fe86f7c9aeec>(19)<module>()\n",
    "    -> ans1, ans2 = counter(a)\n",
    "    (Pdb)\n",
    "</code>\n",
    "\n",
    "- The TypeError: in the debugger confirms the TypeError: shown in the original error output.\n",
    "- Look at the debugger output, correct the code, and place the corrected code in the Answer cell.\n",
    "- Note: do not change the a = [0,2,4] as the test list.\n",
    "- Your answer should look like this:\n",
    "<code>\n",
    "    [0, 2, 4] 6\n",
    "</code>\n"
   ]
  },
  {
   "cell_type": "code",
   "execution_count": 26,
   "metadata": {
    "nbgrader": {
     "grade": false,
     "grade_id": "Err7_Desc",
     "locked": true,
     "schema_version": 1,
     "solution": false
    }
   },
   "outputs": [
    {
     "name": "stdout",
     "output_type": "stream",
     "text": [
      "> \u001b[0;32m/var/folders/sm/grh6sszs7jqglb2lpkgw5yqr0000gn/T/ipykernel_59384/2943012204.py\u001b[0m(13)\u001b[0;36mcounter\u001b[0;34m()\u001b[0m\n",
      "\u001b[0;32m     11 \u001b[0;31m    \u001b[0;32mfor\u001b[0m \u001b[0melement\u001b[0m \u001b[0;32min\u001b[0m \u001b[0mL\u001b[0m\u001b[0;34m:\u001b[0m\u001b[0;34m\u001b[0m\u001b[0;34m\u001b[0m\u001b[0m\n",
      "\u001b[0m\u001b[0;32m     12 \u001b[0;31m        \u001b[0mpdb\u001b[0m\u001b[0;34m.\u001b[0m\u001b[0mset_trace\u001b[0m\u001b[0;34m(\u001b[0m\u001b[0;34m)\u001b[0m\u001b[0;34m\u001b[0m\u001b[0;34m\u001b[0m\u001b[0m\n",
      "\u001b[0m\u001b[0;32m---> 13 \u001b[0;31m        \u001b[0msumm\u001b[0m \u001b[0;34m=\u001b[0m \u001b[0mprev_element\u001b[0m \u001b[0;34m+\u001b[0m \u001b[0melement\u001b[0m\u001b[0;34m\u001b[0m\u001b[0;34m\u001b[0m\u001b[0m\n",
      "\u001b[0m\u001b[0;32m     14 \u001b[0;31m        \u001b[0mprev_element\u001b[0m \u001b[0;34m=\u001b[0m \u001b[0melement\u001b[0m\u001b[0;34m\u001b[0m\u001b[0;34m\u001b[0m\u001b[0m\n",
      "\u001b[0m\u001b[0;32m     15 \u001b[0;31m        \u001b[0mb\u001b[0m\u001b[0;34m.\u001b[0m\u001b[0mappend\u001b[0m\u001b[0;34m[\u001b[0m\u001b[0melement\u001b[0m\u001b[0;34m]\u001b[0m\u001b[0;34m\u001b[0m\u001b[0;34m\u001b[0m\u001b[0m\n",
      "\u001b[0m\n",
      "ipdb> p sum, prev_element, element\n",
      "(<built-in function sum>, 0, 0)\n",
      "ipdb> p summ, prev_element, element\n",
      "(0, 0, 0)\n",
      "ipdb> n\n",
      "> \u001b[0;32m/var/folders/sm/grh6sszs7jqglb2lpkgw5yqr0000gn/T/ipykernel_59384/2943012204.py\u001b[0m(14)\u001b[0;36mcounter\u001b[0;34m()\u001b[0m\n",
      "\u001b[0;32m     12 \u001b[0;31m        \u001b[0mpdb\u001b[0m\u001b[0;34m.\u001b[0m\u001b[0mset_trace\u001b[0m\u001b[0;34m(\u001b[0m\u001b[0;34m)\u001b[0m\u001b[0;34m\u001b[0m\u001b[0;34m\u001b[0m\u001b[0m\n",
      "\u001b[0m\u001b[0;32m     13 \u001b[0;31m        \u001b[0msumm\u001b[0m \u001b[0;34m=\u001b[0m \u001b[0mprev_element\u001b[0m \u001b[0;34m+\u001b[0m \u001b[0melement\u001b[0m\u001b[0;34m\u001b[0m\u001b[0;34m\u001b[0m\u001b[0m\n",
      "\u001b[0m\u001b[0;32m---> 14 \u001b[0;31m        \u001b[0mprev_element\u001b[0m \u001b[0;34m=\u001b[0m \u001b[0melement\u001b[0m\u001b[0;34m\u001b[0m\u001b[0;34m\u001b[0m\u001b[0m\n",
      "\u001b[0m\u001b[0;32m     15 \u001b[0;31m        \u001b[0mb\u001b[0m\u001b[0;34m.\u001b[0m\u001b[0mappend\u001b[0m\u001b[0;34m[\u001b[0m\u001b[0melement\u001b[0m\u001b[0;34m]\u001b[0m\u001b[0;34m\u001b[0m\u001b[0;34m\u001b[0m\u001b[0m\n",
      "\u001b[0m\u001b[0;32m     16 \u001b[0;31m    \u001b[0;32mreturn\u001b[0m \u001b[0mb\u001b[0m\u001b[0;34m,\u001b[0m \u001b[0msumm\u001b[0m\u001b[0;34m\u001b[0m\u001b[0;34m\u001b[0m\u001b[0m\n",
      "\u001b[0m\n",
      "ipdb> n\n",
      "> \u001b[0;32m/var/folders/sm/grh6sszs7jqglb2lpkgw5yqr0000gn/T/ipykernel_59384/2943012204.py\u001b[0m(15)\u001b[0;36mcounter\u001b[0;34m()\u001b[0m\n",
      "\u001b[0;32m     13 \u001b[0;31m        \u001b[0msumm\u001b[0m \u001b[0;34m=\u001b[0m \u001b[0mprev_element\u001b[0m \u001b[0;34m+\u001b[0m \u001b[0melement\u001b[0m\u001b[0;34m\u001b[0m\u001b[0;34m\u001b[0m\u001b[0m\n",
      "\u001b[0m\u001b[0;32m     14 \u001b[0;31m        \u001b[0mprev_element\u001b[0m \u001b[0;34m=\u001b[0m \u001b[0melement\u001b[0m\u001b[0;34m\u001b[0m\u001b[0;34m\u001b[0m\u001b[0m\n",
      "\u001b[0m\u001b[0;32m---> 15 \u001b[0;31m        \u001b[0mb\u001b[0m\u001b[0;34m.\u001b[0m\u001b[0mappend\u001b[0m\u001b[0;34m[\u001b[0m\u001b[0melement\u001b[0m\u001b[0;34m]\u001b[0m\u001b[0;34m\u001b[0m\u001b[0;34m\u001b[0m\u001b[0m\n",
      "\u001b[0m\u001b[0;32m     16 \u001b[0;31m    \u001b[0;32mreturn\u001b[0m \u001b[0mb\u001b[0m\u001b[0;34m,\u001b[0m \u001b[0msumm\u001b[0m\u001b[0;34m\u001b[0m\u001b[0;34m\u001b[0m\u001b[0m\n",
      "\u001b[0m\u001b[0;32m     17 \u001b[0;31m\u001b[0;34m\u001b[0m\u001b[0m\n",
      "\u001b[0m\n",
      "ipdb> n\n",
      "TypeError: 'builtin_function_or_method' object is not subscriptable\n",
      "> \u001b[0;32m/var/folders/sm/grh6sszs7jqglb2lpkgw5yqr0000gn/T/ipykernel_59384/2943012204.py\u001b[0m(15)\u001b[0;36mcounter\u001b[0;34m()\u001b[0m\n",
      "\u001b[0;32m     13 \u001b[0;31m        \u001b[0msumm\u001b[0m \u001b[0;34m=\u001b[0m \u001b[0mprev_element\u001b[0m \u001b[0;34m+\u001b[0m \u001b[0melement\u001b[0m\u001b[0;34m\u001b[0m\u001b[0;34m\u001b[0m\u001b[0m\n",
      "\u001b[0m\u001b[0;32m     14 \u001b[0;31m        \u001b[0mprev_element\u001b[0m \u001b[0;34m=\u001b[0m \u001b[0melement\u001b[0m\u001b[0;34m\u001b[0m\u001b[0;34m\u001b[0m\u001b[0m\n",
      "\u001b[0m\u001b[0;32m---> 15 \u001b[0;31m        \u001b[0mb\u001b[0m\u001b[0;34m.\u001b[0m\u001b[0mappend\u001b[0m\u001b[0;34m[\u001b[0m\u001b[0melement\u001b[0m\u001b[0;34m]\u001b[0m\u001b[0;34m\u001b[0m\u001b[0;34m\u001b[0m\u001b[0m\n",
      "\u001b[0m\u001b[0;32m     16 \u001b[0;31m    \u001b[0;32mreturn\u001b[0m \u001b[0mb\u001b[0m\u001b[0;34m,\u001b[0m \u001b[0msumm\u001b[0m\u001b[0;34m\u001b[0m\u001b[0;34m\u001b[0m\u001b[0m\n",
      "\u001b[0m\u001b[0;32m     17 \u001b[0;31m\u001b[0;34m\u001b[0m\u001b[0m\n",
      "\u001b[0m\n",
      "ipdb> n\n",
      "--Return--\n",
      "None\n",
      "> \u001b[0;32m/var/folders/sm/grh6sszs7jqglb2lpkgw5yqr0000gn/T/ipykernel_59384/2943012204.py\u001b[0m(15)\u001b[0;36mcounter\u001b[0;34m()\u001b[0m\n",
      "\u001b[0;32m     13 \u001b[0;31m        \u001b[0msumm\u001b[0m \u001b[0;34m=\u001b[0m \u001b[0mprev_element\u001b[0m \u001b[0;34m+\u001b[0m \u001b[0melement\u001b[0m\u001b[0;34m\u001b[0m\u001b[0;34m\u001b[0m\u001b[0m\n",
      "\u001b[0m\u001b[0;32m     14 \u001b[0;31m        \u001b[0mprev_element\u001b[0m \u001b[0;34m=\u001b[0m \u001b[0melement\u001b[0m\u001b[0;34m\u001b[0m\u001b[0;34m\u001b[0m\u001b[0m\n",
      "\u001b[0m\u001b[0;32m---> 15 \u001b[0;31m        \u001b[0mb\u001b[0m\u001b[0;34m.\u001b[0m\u001b[0mappend\u001b[0m\u001b[0;34m[\u001b[0m\u001b[0melement\u001b[0m\u001b[0;34m]\u001b[0m\u001b[0;34m\u001b[0m\u001b[0;34m\u001b[0m\u001b[0m\n",
      "\u001b[0m\u001b[0;32m     16 \u001b[0;31m    \u001b[0;32mreturn\u001b[0m \u001b[0mb\u001b[0m\u001b[0;34m,\u001b[0m \u001b[0msumm\u001b[0m\u001b[0;34m\u001b[0m\u001b[0;34m\u001b[0m\u001b[0m\n",
      "\u001b[0m\u001b[0;32m     17 \u001b[0;31m\u001b[0;34m\u001b[0m\u001b[0m\n",
      "\u001b[0m\n",
      "ipdb> n\n",
      "TypeError: 'builtin_function_or_method' object is not subscriptable\n",
      "None\n",
      "> \u001b[0;32m/var/folders/sm/grh6sszs7jqglb2lpkgw5yqr0000gn/T/ipykernel_59384/2943012204.py\u001b[0m(20)\u001b[0;36m<module>\u001b[0;34m()\u001b[0m\n",
      "\u001b[0;32m     18 \u001b[0;31m\u001b[0ma\u001b[0m\u001b[0;34m=\u001b[0m\u001b[0;34m[\u001b[0m\u001b[0;36m0\u001b[0m\u001b[0;34m,\u001b[0m\u001b[0;36m2\u001b[0m\u001b[0;34m,\u001b[0m\u001b[0;36m4\u001b[0m\u001b[0;34m]\u001b[0m\u001b[0;34m\u001b[0m\u001b[0;34m\u001b[0m\u001b[0m\n",
      "\u001b[0m\u001b[0;32m     19 \u001b[0;31m\u001b[0;34m\u001b[0m\u001b[0m\n",
      "\u001b[0m\u001b[0;32m---> 20 \u001b[0;31m\u001b[0mans1\u001b[0m\u001b[0;34m,\u001b[0m \u001b[0mans2\u001b[0m \u001b[0;34m=\u001b[0m \u001b[0mcounter\u001b[0m\u001b[0;34m(\u001b[0m\u001b[0ma\u001b[0m\u001b[0;34m)\u001b[0m\u001b[0;34m\u001b[0m\u001b[0;34m\u001b[0m\u001b[0m\n",
      "\u001b[0m\u001b[0;32m     21 \u001b[0;31m\u001b[0mprint\u001b[0m\u001b[0;34m(\u001b[0m\u001b[0mans1\u001b[0m\u001b[0;34m,\u001b[0m \u001b[0mans2\u001b[0m\u001b[0;34m)\u001b[0m\u001b[0;34m\u001b[0m\u001b[0;34m\u001b[0m\u001b[0m\n",
      "\u001b[0m\u001b[0;32m     22 \u001b[0;31m\u001b[0;34m\u001b[0m\u001b[0m\n",
      "\u001b[0m\n",
      "ipdb> q\n"
     ]
    }
   ],
   "source": [
    "### Error Code Cell - run this with the debugger trace commented out to see the error and then uncomment out the debugger\n",
    "\n",
    "ans1 = []\n",
    "ans2 = None\n",
    "\n",
    "def counter(L):\n",
    "    b=[]\n",
    "    summ = 0 \n",
    "    prev_element = 0\n",
    "\n",
    "    for element in L:  \n",
    "        pdb.set_trace()\n",
    "        summ = prev_element + element\n",
    "        prev_element = element\n",
    "        b.append[element]\n",
    "    return b, summ\n",
    "\n",
    "a=[0,2,4]\n",
    "\n",
    "ans1, ans2 = counter(a)\n",
    "print(ans1, ans2)\n",
    "\n"
   ]
  },
  {
   "cell_type": "code",
   "execution_count": 27,
   "metadata": {
    "nbgrader": {
     "grade": false,
     "grade_id": "Err7_Ans",
     "locked": false,
     "schema_version": 1,
     "solution": true
    }
   },
   "outputs": [
    {
     "name": "stdout",
     "output_type": "stream",
     "text": [
      "[0, 2, 4] 6\n"
     ]
    }
   ],
   "source": [
    "### Answer Cell - place your corrected code here and comment out the debugger trace\n",
    "\n",
    "ans1 = []\n",
    "ans2 = None\n",
    "\n",
    "def counter(L):\n",
    "    b=[]\n",
    "    summ = 0 \n",
    "    prev_element = 0\n",
    "\n",
    "    for element in L:  \n",
    "        #pdb.set_trace()\n",
    "        summ = prev_element + element\n",
    "        prev_element = element\n",
    "        b.append(element)\n",
    "    return b, summ\n",
    "\n",
    "a=[0,2,4]\n",
    "\n",
    "ans1, ans2 = counter(a)\n",
    "print(ans1, ans2)\n"
   ]
  },
  {
   "cell_type": "markdown",
   "metadata": {
    "nbgrader": {
     "grade": false,
     "grade_id": "Q8_Description",
     "locked": true,
     "schema_version": 1,
     "solution": false
    }
   },
   "source": [
    "###### [Back to top](#Index:) \n",
    "\n",
    "### Question 7\n",
    "\n",
    "Perform the following tasks:\n",
    "- After correcting the counter function in the previous example, you run the code, and you no longer get errors, but the output of the code is now [5, 3, 4] 7, which is clearly incorrect.\n",
    "- You decide to debug the code again by setting a trace in the position shown in the code in the Error Code cell below (it is shown commented out here).\n",
    "- After uncommenting out the trace line in the code and using the debugger to step through the code, the output should look like this:\n",
    "<code>\n",
    "    [5, 3, 4] 7\n",
    "</code>\n",
    "<code>\n",
    "    > <ipython-input-5-e23e9858b363>(9)counter()\n",
    "    -> for element in L:\n",
    "    (Pdb) p element, prev_element, summ, b\n",
    "    (5, 5, 5, [5])\n",
    "    (Pdb) c\n",
    "    > <ipython-input-5-e23e9858b363>(9)counter()\n",
    "    -> for element in L:\n",
    "    (Pdb) p element, prev_element, summ, b\n",
    "    (3, 3, 8, [5, 3])\n",
    "    (Pdb) c\n",
    "    > <ipython-input-5-e23e9858b363>(9)counter()\n",
    "    -> for element in L:\n",
    "    (Pdb) p element, prev_element, summ, b\n",
    "    (4, 4, 7, [5, 3, 4])\n",
    "    (Pdb) c\n",
    "    [5, 3, 4] 7\n",
    "\n",
    "</code>\n",
    "    \n",
    "- Look at your debugger output, correct the code, and place the corrected code in the Answer cell.\n",
    "- Note: do not change the a = [5,3,4] as the test list.\n",
    "- Your answer should look like this:\n",
    "<code>\n",
    "    [5, 3, 4]\n",
    "    12\n",
    "</code>\n"
   ]
  },
  {
   "cell_type": "code",
   "execution_count": 28,
   "metadata": {
    "nbgrader": {
     "grade": false,
     "grade_id": "Err8_Desc",
     "locked": true,
     "schema_version": 1,
     "solution": false
    }
   },
   "outputs": [
    {
     "name": "stdout",
     "output_type": "stream",
     "text": [
      "> \u001b[0;32m/var/folders/sm/grh6sszs7jqglb2lpkgw5yqr0000gn/T/ipykernel_59384/751036557.py\u001b[0m(7)\u001b[0;36mcounter\u001b[0;34m()\u001b[0m\n",
      "\u001b[0;32m      5 \u001b[0;31m    \u001b[0msumm\u001b[0m \u001b[0;34m=\u001b[0m \u001b[0;36m0\u001b[0m\u001b[0;34m\u001b[0m\u001b[0;34m\u001b[0m\u001b[0m\n",
      "\u001b[0m\u001b[0;32m      6 \u001b[0;31m    \u001b[0mprev_element\u001b[0m \u001b[0;34m=\u001b[0m \u001b[0;36m0\u001b[0m\u001b[0;34m\u001b[0m\u001b[0;34m\u001b[0m\u001b[0m\n",
      "\u001b[0m\u001b[0;32m----> 7 \u001b[0;31m    \u001b[0;32mfor\u001b[0m \u001b[0melement\u001b[0m \u001b[0;32min\u001b[0m \u001b[0mL\u001b[0m\u001b[0;34m:\u001b[0m\u001b[0;34m\u001b[0m\u001b[0;34m\u001b[0m\u001b[0m\n",
      "\u001b[0m\u001b[0;32m      8 \u001b[0;31m        \u001b[0msumm\u001b[0m \u001b[0;34m=\u001b[0m \u001b[0mprev_element\u001b[0m \u001b[0;34m+\u001b[0m \u001b[0melement\u001b[0m\u001b[0;34m\u001b[0m\u001b[0;34m\u001b[0m\u001b[0m\n",
      "\u001b[0m\u001b[0;32m      9 \u001b[0;31m        \u001b[0mprev_element\u001b[0m \u001b[0;34m=\u001b[0m \u001b[0melement\u001b[0m\u001b[0;34m\u001b[0m\u001b[0;34m\u001b[0m\u001b[0m\n",
      "\u001b[0m\n",
      "ipdb> p element, prev_element, summ, b\n",
      "(5, 5, 5, [5])\n",
      "ipdb> n\n",
      "> \u001b[0;32m/var/folders/sm/grh6sszs7jqglb2lpkgw5yqr0000gn/T/ipykernel_59384/751036557.py\u001b[0m(8)\u001b[0;36mcounter\u001b[0;34m()\u001b[0m\n",
      "\u001b[0;32m      6 \u001b[0;31m    \u001b[0mprev_element\u001b[0m \u001b[0;34m=\u001b[0m \u001b[0;36m0\u001b[0m\u001b[0;34m\u001b[0m\u001b[0;34m\u001b[0m\u001b[0m\n",
      "\u001b[0m\u001b[0;32m      7 \u001b[0;31m    \u001b[0;32mfor\u001b[0m \u001b[0melement\u001b[0m \u001b[0;32min\u001b[0m \u001b[0mL\u001b[0m\u001b[0;34m:\u001b[0m\u001b[0;34m\u001b[0m\u001b[0;34m\u001b[0m\u001b[0m\n",
      "\u001b[0m\u001b[0;32m----> 8 \u001b[0;31m        \u001b[0msumm\u001b[0m \u001b[0;34m=\u001b[0m \u001b[0mprev_element\u001b[0m \u001b[0;34m+\u001b[0m \u001b[0melement\u001b[0m\u001b[0;34m\u001b[0m\u001b[0;34m\u001b[0m\u001b[0m\n",
      "\u001b[0m\u001b[0;32m      9 \u001b[0;31m        \u001b[0mprev_element\u001b[0m \u001b[0;34m=\u001b[0m \u001b[0melement\u001b[0m\u001b[0;34m\u001b[0m\u001b[0;34m\u001b[0m\u001b[0m\n",
      "\u001b[0m\u001b[0;32m     10 \u001b[0;31m        \u001b[0mb\u001b[0m\u001b[0;34m.\u001b[0m\u001b[0mappend\u001b[0m\u001b[0;34m(\u001b[0m\u001b[0melement\u001b[0m\u001b[0;34m)\u001b[0m\u001b[0;34m\u001b[0m\u001b[0;34m\u001b[0m\u001b[0m\n",
      "\u001b[0m\n",
      "ipdb> p element, prev_element, summ, b\n",
      "(3, 5, 5, [5])\n",
      "ipdb> c\n",
      "> \u001b[0;32m/var/folders/sm/grh6sszs7jqglb2lpkgw5yqr0000gn/T/ipykernel_59384/751036557.py\u001b[0m(7)\u001b[0;36mcounter\u001b[0;34m()\u001b[0m\n",
      "\u001b[0;32m      5 \u001b[0;31m    \u001b[0msumm\u001b[0m \u001b[0;34m=\u001b[0m \u001b[0;36m0\u001b[0m\u001b[0;34m\u001b[0m\u001b[0;34m\u001b[0m\u001b[0m\n",
      "\u001b[0m\u001b[0;32m      6 \u001b[0;31m    \u001b[0mprev_element\u001b[0m \u001b[0;34m=\u001b[0m \u001b[0;36m0\u001b[0m\u001b[0;34m\u001b[0m\u001b[0;34m\u001b[0m\u001b[0m\n",
      "\u001b[0m\u001b[0;32m----> 7 \u001b[0;31m    \u001b[0;32mfor\u001b[0m \u001b[0melement\u001b[0m \u001b[0;32min\u001b[0m \u001b[0mL\u001b[0m\u001b[0;34m:\u001b[0m\u001b[0;34m\u001b[0m\u001b[0;34m\u001b[0m\u001b[0m\n",
      "\u001b[0m\u001b[0;32m      8 \u001b[0;31m        \u001b[0msumm\u001b[0m \u001b[0;34m=\u001b[0m \u001b[0mprev_element\u001b[0m \u001b[0;34m+\u001b[0m \u001b[0melement\u001b[0m\u001b[0;34m\u001b[0m\u001b[0;34m\u001b[0m\u001b[0m\n",
      "\u001b[0m\u001b[0;32m      9 \u001b[0;31m        \u001b[0mprev_element\u001b[0m \u001b[0;34m=\u001b[0m \u001b[0melement\u001b[0m\u001b[0;34m\u001b[0m\u001b[0;34m\u001b[0m\u001b[0m\n",
      "\u001b[0m\n",
      "ipdb> c\n",
      "> \u001b[0;32m/var/folders/sm/grh6sszs7jqglb2lpkgw5yqr0000gn/T/ipykernel_59384/751036557.py\u001b[0m(7)\u001b[0;36mcounter\u001b[0;34m()\u001b[0m\n",
      "\u001b[0;32m      5 \u001b[0;31m    \u001b[0msumm\u001b[0m \u001b[0;34m=\u001b[0m \u001b[0;36m0\u001b[0m\u001b[0;34m\u001b[0m\u001b[0;34m\u001b[0m\u001b[0m\n",
      "\u001b[0m\u001b[0;32m      6 \u001b[0;31m    \u001b[0mprev_element\u001b[0m \u001b[0;34m=\u001b[0m \u001b[0;36m0\u001b[0m\u001b[0;34m\u001b[0m\u001b[0;34m\u001b[0m\u001b[0m\n",
      "\u001b[0m\u001b[0;32m----> 7 \u001b[0;31m    \u001b[0;32mfor\u001b[0m \u001b[0melement\u001b[0m \u001b[0;32min\u001b[0m \u001b[0mL\u001b[0m\u001b[0;34m:\u001b[0m\u001b[0;34m\u001b[0m\u001b[0;34m\u001b[0m\u001b[0m\n",
      "\u001b[0m\u001b[0;32m      8 \u001b[0;31m        \u001b[0msumm\u001b[0m \u001b[0;34m=\u001b[0m \u001b[0mprev_element\u001b[0m \u001b[0;34m+\u001b[0m \u001b[0melement\u001b[0m\u001b[0;34m\u001b[0m\u001b[0;34m\u001b[0m\u001b[0m\n",
      "\u001b[0m\u001b[0;32m      9 \u001b[0;31m        \u001b[0mprev_element\u001b[0m \u001b[0;34m=\u001b[0m \u001b[0melement\u001b[0m\u001b[0;34m\u001b[0m\u001b[0;34m\u001b[0m\u001b[0m\n",
      "\u001b[0m\n",
      "ipdb> p element, prev_element, summ, b\n",
      "(4, 4, 7, [5, 3, 4])\n",
      "ipdb> c\n",
      "[5, 3, 4] 7\n"
     ]
    }
   ],
   "source": [
    "### Error Code Cell - run this code first with the dedugger trace line commented out to see the incorrect output. The run with it uncommented out.\n",
    "\n",
    "def counter(L):\n",
    "    b=[]\n",
    "    summ = 0 \n",
    "    prev_element = 0\n",
    "    for element in L:  \n",
    "        summ = prev_element + element\n",
    "        prev_element = element\n",
    "        b.append(element)\n",
    "        pdb.set_trace()\n",
    "\n",
    "    return b, summ\n",
    "\n",
    "a=[5,3,4]\n",
    "\n",
    "ans1, ans2 = counter(a)\n",
    "print(ans1, ans2)\n",
    "\n"
   ]
  },
  {
   "cell_type": "code",
   "execution_count": 29,
   "metadata": {
    "nbgrader": {
     "grade": false,
     "grade_id": "Err8_Ans",
     "locked": false,
     "schema_version": 1,
     "solution": true
    }
   },
   "outputs": [
    {
     "name": "stdout",
     "output_type": "stream",
     "text": [
      "[5, 3, 4] 12\n"
     ]
    }
   ],
   "source": [
    "# Answer Cell - place your corrected code here and run with the trace line commented out.\n",
    "\n",
    "def counter(L):\n",
    "    b=[]\n",
    "    summ = 0 \n",
    "    prev_element = 0\n",
    "    for element in L:  \n",
    "        summ = prev_element + element\n",
    "        prev_element = summ\n",
    "        b.append(element)\n",
    "        #pdb.set_trace()\n",
    "\n",
    "    return b, summ\n",
    "\n",
    "a=[5,3,4]\n",
    "\n",
    "ans1, ans2 = counter(a)\n",
    "print(ans1, ans2)\n"
   ]
  },
  {
   "cell_type": "code",
   "execution_count": null,
   "metadata": {},
   "outputs": [],
   "source": []
  }
 ],
 "metadata": {
  "celltoolbar": "Create Assignment",
  "kernelspec": {
   "display_name": "Python 3 (ipykernel)",
   "language": "python",
   "name": "python3"
  },
  "language_info": {
   "codemirror_mode": {
    "name": "ipython",
    "version": 3
   },
   "file_extension": ".py",
   "mimetype": "text/x-python",
   "name": "python",
   "nbconvert_exporter": "python",
   "pygments_lexer": "ipython3",
   "version": "3.11.5"
  }
 },
 "nbformat": 4,
 "nbformat_minor": 4
}
