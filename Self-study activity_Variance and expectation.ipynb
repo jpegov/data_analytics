{
 "cells": [
  {
   "cell_type": "markdown",
   "id": "99144a89",
   "metadata": {},
   "source": [
    "# Self-study activity: Variance and expectation\n",
    "---\n",
    "## Overview\n",
    "\n",
    "In this activity, you will practise calculating variance and expectation, two important summary statistics.\n",
    "\n",
    "This activity is designed to build your familiarity and comfort coding in Python while also helping you review the key topics from each module. As you progress through the activity, the questions will get increasingly more complex. It is important that you adopt a programmer's mindset when completing this activity. Remember to run your code from each cell before submitting your activity, as doing so will give you a chance to fix any errors before submitting.\n",
    "\n",
    "\n",
    "### Learning outcome addressed  \n",
    "\n",
    "- Identify calculations for composite events.\n"
   ]
  },
  {
   "cell_type": "markdown",
   "id": "4dfe3691",
   "metadata": {},
   "source": [
    "Recall that expectation is the average value, and variance is the amount of variability around the expectation.\n",
    "\n",
    "With this in mind, what is the variance and expectation of getting **Heads** or **Tails** of flipping a fair coin?  For a fair coin, there is a 50 per cent chance of getting **Heads** and 50 per cent chance of getting **Tails**.  So, the variance is 50 percent and the expected value is 50 per cent.\n",
    "\n",
    "The following Python function calculates the expected value."
   ]
  },
  {
   "cell_type": "code",
   "execution_count": 1,
   "id": "9693bc99",
   "metadata": {},
   "outputs": [],
   "source": [
    "import numpy as np\n",
    "\n",
    "def expected_value(values, weights):\n",
    "    values = np.asarray(values)\n",
    "    weights = np.asarray(weights)\n",
    "    return (values * weights).sum() / weights.sum()"
   ]
  },
  {
   "cell_type": "code",
   "execution_count": 2,
   "id": "1fe54177",
   "metadata": {},
   "outputs": [
    {
     "name": "stdout",
     "output_type": "stream",
     "text": [
      "0.5\n"
     ]
    }
   ],
   "source": [
    "# Here we are representing the values for the coin toss as 0 (=heads) and 1 (= tails)\n",
    "# the weights represent that there is a 50/50 chance of getting heads or tails\n",
    "vals = [0,1]\n",
    "weights = [0.5, 0.5]\n",
    "\n",
    "print(expected_value(vals, weights))"
   ]
  },
  {
   "cell_type": "markdown",
   "id": "68dcf703",
   "metadata": {},
   "source": [
    "In Python, you can use the Python library **describe** to calculate the variance."
   ]
  },
  {
   "cell_type": "code",
   "execution_count": 3,
   "id": "e2beffdc",
   "metadata": {},
   "outputs": [
    {
     "data": {
      "text/plain": [
       "DescribeResult(nobs=2, minmax=(0, 1), mean=0.5, variance=0.5, skewness=0.0, kurtosis=-2.0)"
      ]
     },
     "execution_count": 3,
     "metadata": {},
     "output_type": "execute_result"
    }
   ],
   "source": [
    "from scipy.stats import describe\n",
    "\n",
    "describe([0,1])"
   ]
  },
  {
   "cell_type": "markdown",
   "id": "b55d1c59",
   "metadata": {},
   "source": [
    "## Problem 1\n",
    "\n",
    "Complete the code below to create a function called **flip_coin()**.  The function uses the **random.choice** method to return either **Heads** or **Tails** randomly to simulate the flip of a coin.\n",
    "\n",
    "**Hint:** random.choice takes a list of strings: [\"Heads\",\"Tails\"]"
   ]
  },
  {
   "cell_type": "code",
   "execution_count": 6,
   "id": "d580574a",
   "metadata": {},
   "outputs": [],
   "source": [
    "import random\n",
    "\n",
    "def flip_coin():\n",
    "    return random.choice([\"Heads\", \"Tails\"])"
   ]
  },
  {
   "cell_type": "code",
   "execution_count": 7,
   "id": "2b95ee0b",
   "metadata": {},
   "outputs": [
    {
     "name": "stdout",
     "output_type": "stream",
     "text": [
      "Heads\n"
     ]
    }
   ],
   "source": [
    "# test your function:\n",
    "print(flip_coin())"
   ]
  },
  {
   "cell_type": "markdown",
   "id": "da0bda10",
   "metadata": {},
   "source": [
    "## Problem 2\n",
    "\n",
    "Complete the code below to call your function 10 times and print the results."
   ]
  },
  {
   "cell_type": "code",
   "execution_count": 10,
   "id": "1ec64e36",
   "metadata": {},
   "outputs": [
    {
     "name": "stdout",
     "output_type": "stream",
     "text": [
      "Flip 0: Tails\n",
      "Flip 1: Heads\n",
      "Flip 2: Tails\n",
      "Flip 3: Tails\n",
      "Flip 4: Heads\n",
      "Flip 5: Tails\n",
      "Flip 6: Tails\n",
      "Flip 7: Heads\n",
      "Flip 8: Heads\n",
      "Flip 9: Tails\n"
     ]
    }
   ],
   "source": [
    "for i in range(10):\n",
    "    print(\"Flip \" + str(i) + ': ' + flip_coin())"
   ]
  },
  {
   "cell_type": "markdown",
   "id": "8413d34b",
   "metadata": {},
   "source": [
    "Did you get 5 heads and 5 tails? Probably not. However, you should see an equal number of heads/tails as you increase the number of coin flips."
   ]
  },
  {
   "cell_type": "markdown",
   "id": "b1e5ce59",
   "metadata": {},
   "source": [
    "## Problem 3\n",
    "\n",
    "Complete the code below to call the **flip_coin()** function.  Keep track of the number of heads/tails by incrementing the variables **total_heads** and **total_tails**.\n",
    "\n",
    "Try the code with flips = 1,000, 10,000 and 1,000,000. Are the number of heads/tails getting close to the expected 50 per cent average?"
   ]
  },
  {
   "cell_type": "code",
   "execution_count": 14,
   "id": "a60ff11e",
   "metadata": {},
   "outputs": [
    {
     "name": "stdout",
     "output_type": "stream",
     "text": [
      "Total Heads: 500259.0\n",
      "Total Tails: 499741.0\n",
      "Percent Heads: 0.500259\n",
      "Percent Tails: 0.499741\n"
     ]
    }
   ],
   "source": [
    "flips = 1000000\n",
    "\n",
    "total_heads = 0.0\n",
    "total_tails = 0.0\n",
    "\n",
    "for i in range(flips) :\n",
    "    if flip_coin() == 'Heads':\n",
    "        total_heads += 1\n",
    "    else:\n",
    "        total_tails += 1\n",
    "        \n",
    "print(\"Total Heads: \" + str(total_heads))\n",
    "print(\"Total Tails: \" + str(total_tails))\n",
    "print(\"Percent Heads: \" + str(total_heads/flips))\n",
    "print(\"Percent Tails: \" + str(total_tails/flips))"
   ]
  },
  {
   "cell_type": "code",
   "execution_count": null,
   "id": "9e873c41",
   "metadata": {},
   "outputs": [],
   "source": []
  }
 ],
 "metadata": {
  "kernelspec": {
   "display_name": "Python 3 (ipykernel)",
   "language": "python",
   "name": "python3"
  },
  "language_info": {
   "codemirror_mode": {
    "name": "ipython",
    "version": 3
   },
   "file_extension": ".py",
   "mimetype": "text/x-python",
   "name": "python",
   "nbconvert_exporter": "python",
   "pygments_lexer": "ipython3",
   "version": "3.11.5"
  }
 },
 "nbformat": 4,
 "nbformat_minor": 5
}
